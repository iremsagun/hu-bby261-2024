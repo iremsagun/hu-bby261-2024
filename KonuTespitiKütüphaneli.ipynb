{
  "nbformat": 4,
  "nbformat_minor": 0,
  "metadata": {
    "colab": {
      "provenance": [],
      "authorship_tag": "ABX9TyO1DFeg08X1AvF5ElbGZeG7",
      "include_colab_link": true
    },
    "kernelspec": {
      "name": "python3",
      "display_name": "Python 3"
    },
    "language_info": {
      "name": "python"
    }
  },
  "cells": [
    {
      "cell_type": "markdown",
      "metadata": {
        "id": "view-in-github",
        "colab_type": "text"
      },
      "source": [
        "<a href=\"https://colab.research.google.com/github/iremsagun/hu-bby261-2024/blob/main/KonuTespitiK%C3%BCt%C3%BCphaneli.ipynb\" target=\"_parent\"><img src=\"https://colab.research.google.com/assets/colab-badge.svg\" alt=\"Open In Colab\"/></a>"
      ]
    },
    {
      "cell_type": "code",
      "source": [
        "pip install transformers"
      ],
      "metadata": {
        "id": "cNZfA4XRSAf_"
      },
      "execution_count": null,
      "outputs": []
    },
    {
      "cell_type": "code",
      "source": [
        "from transformers import pipeline\n",
        "\n",
        "# Zero-shot classification pipeline'ı oluşturuyoruz\n",
        "classifier = pipeline(\"zero-shot-classification\", model=\"facebook/bart-large-mnli\")\n",
        "\n",
        "# Klavyeden metin al\n",
        "metin = input(\" Lütfen Metin giriniz: \")\n",
        "\n",
        "# Sınıflandırma yapılacak konular\n",
        "konular = [\"Siyaset\", \"Teknoloji\", \"Spor\", \"Sağlık\", \"Eğlence\"]\n",
        "\n",
        "# Sınıflandırma işlemi\n",
        "sonuc = classifier(metin, candidate_labels=konular)\n",
        "\n",
        "# Sonuçları yazdırma\n",
        "print(\"Metin:\", metin)\n",
        "print(\"Konu Tahminleri ve Güven Skorları:\")\n",
        "for konu, skor in zip(sonuc[\"labels\"], sonuc[\"scores\"]):\n",
        "    print(f\"{konu}: {skor:.2f}\")"
      ],
      "metadata": {
        "id": "rzUCnWPFSWEa"
      },
      "execution_count": null,
      "outputs": []
    },
    {
      "cell_type": "code",
      "source": [
        "from transformers import pipeline\n",
        "\n",
        "# Zero-shot classification pipeline'ını oluştur\n",
        "classifier = pipeline(\"zero-shot-classification\", model=\"facebook/bart-large-mnli\")\n",
        "\n",
        "konular = [\"Siyaset\", \"Teknoloji\", \"Spor\", \"Sağlık\", \"Eğlence\"]\n",
        "\n",
        "metin = input(\"Lütfen metni girin: \")\n",
        "\n",
        "# Sınıflandırma işlemi\n",
        "sonuc = classifier(metin, candidate_labels=konular)\n",
        "\n",
        "# En yüksek güven skoruna sahip olan konu\n",
        "en_uygun_konu = sonuc[\"labels\"][0]  # İlk konu en yüksek skorlu olan\n",
        "\n",
        "# Sonucu yazdırma\n",
        "print(f\"Metin en çok '{en_uygun_konu}' konusuyla alakalı.\")"
      ],
      "metadata": {
        "id": "tBPShZzZbk-p"
      },
      "execution_count": null,
      "outputs": []
    }
  ]
}