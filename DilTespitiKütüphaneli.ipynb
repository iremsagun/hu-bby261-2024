{
  "nbformat": 4,
  "nbformat_minor": 0,
  "metadata": {
    "colab": {
      "provenance": [],
      "authorship_tag": "ABX9TyPqaIZsGwe1dspw08CewZg2",
      "include_colab_link": true
    },
    "kernelspec": {
      "name": "python3",
      "display_name": "Python 3"
    },
    "language_info": {
      "name": "python"
    }
  },
  "cells": [
    {
      "cell_type": "markdown",
      "metadata": {
        "id": "view-in-github",
        "colab_type": "text"
      },
      "source": [
        "<a href=\"https://colab.research.google.com/github/iremsagun/hu-bby261-2024/blob/main/DilTespitiK%C3%BCt%C3%BCphaneli.ipynb\" target=\"_parent\"><img src=\"https://colab.research.google.com/assets/colab-badge.svg\" alt=\"Open In Colab\"/></a>"
      ]
    },
    {
      "cell_type": "code",
      "execution_count": null,
      "metadata": {
        "id": "iPPoWtudqLNn"
      },
      "outputs": [],
      "source": [
        "!pip install langdetect"
      ]
    },
    {
      "cell_type": "code",
      "source": [
        "from langdetect import detect\n",
        "\n",
        "def dil_tespiti(metin):\n",
        "    try: #Hata alması muhtemel olan kod bu bloğa yazılır. Bu blok içinde bir hata (exception) oluşursa, Python bu hatayı algılar ve try bloğunun geri kalanını çalıştırmayı durdurur.\n",
        "        # Metnin dilini tespit et\n",
        "        detected_language = detect(metin) #detect fonksiyonu, metnin dil kodunu döndürür.\n",
        "\n",
        "        # Dil kodları ve isimlerini içeren bir sözlük\n",
        "        diller = {\n",
        "            'tr': 'Türkçe',\n",
        "            'en': 'İngilizce',\n",
        "            'de': 'Almanca',\n",
        "            'fr': 'Fransızca',\n",
        "            'es': 'İspanyolca'\n",
        "        }\n",
        "#Exception: Python'da tüm hata türlerinin (ValueError, TypeError, KeyError vb.) temel sınıfıdır.\n",
        "#Exception ifadesi, herhangi bir türden hata olduğunda çalışır. Bu, genellikle bilinmeyen veya nadir görülen hataları yakalamak için kullanılır.\n",
        "        # Tespit edilen dil, belirtilen diller arasındaysa döndür\n",
        "        if detected_language in diller:\n",
        "            print(f\"Metin dili: {diller[detected_language]}\")\n",
        "        else:\n",
        "            print(\"Metin dili belirtilen dillerden farklı.\")\n",
        "\n",
        "    except Exception as e: #as e: Exception ifadesinden sonra kullanılan as e, oluşan hatayı e adlı bir değişkende saklar.\n",
        "    #Böylece e değişkeni üzerinden hata hakkında daha fazla bilgiye erişilebilir.\n",
        "        print(\"Dil tespit edilemedi:\", str(e))\n",
        "\n",
        "metin = input(\"Lütfen bir metin girin: \")\n",
        "dil_tespiti(metin)"
      ],
      "metadata": {
        "id": "JrRT-VLbrxGF"
      },
      "execution_count": null,
      "outputs": []
    }
  ]
}