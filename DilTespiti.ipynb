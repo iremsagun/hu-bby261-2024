{
  "nbformat": 4,
  "nbformat_minor": 0,
  "metadata": {
    "colab": {
      "provenance": [],
      "authorship_tag": "ABX9TyNJJJOj9CgK3dKQWx90//QZ",
      "include_colab_link": true
    },
    "kernelspec": {
      "name": "python3",
      "display_name": "Python 3"
    },
    "language_info": {
      "name": "python"
    }
  },
  "cells": [
    {
      "cell_type": "markdown",
      "metadata": {
        "id": "view-in-github",
        "colab_type": "text"
      },
      "source": [
        "<a href=\"https://colab.research.google.com/github/iremsagun/hu-bby261-2024/blob/main/DilTespiti.ipynb\" target=\"_parent\"><img src=\"https://colab.research.google.com/assets/colab-badge.svg\" alt=\"Open In Colab\"/></a>"
      ]
    },
    {
      "cell_type": "code",
      "source": [
        "# Diller ve bu dillere özgü bazı yaygın kelimeler\n",
        "dil_kelimeleri = {\n",
        "    \"Türkçe\": [\"ve\", \"bir\", \"bu\", \"şu\", \"ile\", \"çok\", \"gibi\"],\n",
        "    \"İngilizce\": [\"the\", \"is\", \"and\", \"in\", \"to\", \"of\", \"it\"],\n",
        "    \"Almanca\": [\"und\", \"ist\", \"das\", \"in\", \"zu\", \"ein\", \"mit\"],\n",
        "    \"Fransızca\": [\"le\", \"la\", \"et\", \"est\", \"en\", \"un\", \"les\"],\n",
        "    \"İspanyolca\": [\"el\", \"la\", \"es\", \"en\", \"un\", \"y\", \"los\", \"¿\", \"Por\", \"si\"]\n",
        "}\n",
        "\n",
        "def dil_tespiti(metin):\n",
        "    # Her dil için bir skor tutmak için sözlük oluştur\n",
        "    skorlar = {dil: 0 for dil in dil_kelimeleri}\n",
        "\n",
        "    # Metni kelimelere ayır ve küçük harfe çevir\n",
        "    kelimeler = metin.lower().split()\n",
        "\n",
        "    # Her kelimeyi kontrol et\n",
        "    for kelime in kelimeler:\n",
        "        for dil, kelime_listesi in dil_kelimeleri.items():\n",
        "            if kelime in kelime_listesi:\n",
        "                skorlar[dil] += 1\n",
        "\n",
        "    # En yüksek skora sahip dili bul\n",
        "    en_iyi_dil = max(skorlar, key=skorlar.get)\n",
        "\n",
        "    # En yüksek skor sıfırsa dil bulunamadı\n",
        "    if skorlar[en_iyi_dil] == 0:\n",
        "        print(\"Metin hiçbir dil ile eşleşmedi.\")\n",
        "    else:\n",
        "        print(f\"Metin dili: {en_iyi_dil}\")\n",
        "\n",
        "# Kullanıcıdan bir metin al\n",
        "metin = input(\"Bir metin girin: \")\n",
        "dil_tespiti(metin)"
      ],
      "metadata": {
        "colab": {
          "base_uri": "https://localhost:8080/"
        },
        "id": "LWwO08NVJ9Fl",
        "outputId": "c3781176-ea02-4407-ff6c-028b533a0a44"
      },
      "execution_count": 4,
      "outputs": [
        {
          "output_type": "stream",
          "name": "stdout",
          "text": [
            "Bir metin girin: Der Kuchen ist sehr lecker\n",
            "Metin dili: Almanca\n"
          ]
        }
      ]
    },
    {
      "cell_type": "code",
      "source": [
        "dil_kokleri = {\n",
        "    \"Türkçe\": [\"ve\", \"bir\", \"bu\", \"şu\", \"ile\", \"çok\", \"gib\"],\n",
        "    \"İngilizce\": [\"the\", \"is\", \"and\", \"in\", \"to\", \"of\", \"it\"],\n",
        "    \"Almanca\": [\"und\", \"ist\", \"das\", \"in\", \"zu\", \"ein\", \"mit\"],\n",
        "    \"Fransızca\": [\"le\", \"la\", \"et\", \"est\", \"en\", \"un\", \"les\"],\n",
        "    \"İspanyolca\": [\"el\", \"la\", \"es\", \"en\", \"un\", \"y\", \"los\"]\n",
        "}\n",
        "\n",
        "def dil_tespiti(metin):\n",
        "    # Her dil için bir skor tutmak için sözlük oluştur\n",
        "    skorlar = {dil: 0 for dil in dil_kokleri}\n",
        "\n",
        "    # Metni kelimelere ayır ve küçük harfe çevir\n",
        "    kelimeler = metin.lower().split()\n",
        "\n",
        "    # Her kelimeyi kontrol et\n",
        "    for kelime in kelimeler:\n",
        "        for dil, kok_listesi in dil_kokleri.items():\n",
        "            for kok in kok_listesi:\n",
        "                # Eğer kelime kökle başlıyorsa, o dilin skorunu artır\n",
        "                if kelime.startswith(kok):\n",
        "                    skorlar[dil] += 1\n",
        "                    break  # Bir eşleşme bulduktan sonra diğer kökleri kontrol etmeye gerek yok\n",
        "\n",
        "    # En yüksek skora sahip dili bul\n",
        "    en_iyi_dil = max(skorlar, key=skorlar.get)\n",
        "\n",
        "    # En yüksek skor sıfırsa dil bulunamadı\n",
        "    if skorlar[en_iyi_dil] == 0:\n",
        "        print(\"Metin hiçbir dil ile eşleşmedi.\")\n",
        "    else:\n",
        "        print(f\"Metin dili: {en_iyi_dil}\")\n",
        "\n",
        "metin = input(\"Bir metin girin: \")\n",
        "dil_tespiti(metin)"
      ],
      "metadata": {
        "colab": {
          "base_uri": "https://localhost:8080/"
        },
        "id": "HszZvLlzNsg8",
        "outputId": "e00ff37f-9e69-48bc-a869-2074b7595733"
      },
      "execution_count": 5,
      "outputs": [
        {
          "output_type": "stream",
          "name": "stdout",
          "text": [
            "Bir metin girin: the cake was delicious\n",
            "Metin dili: İngilizce\n"
          ]
        }
      ]
    }
  ]
}