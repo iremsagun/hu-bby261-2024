{
  "nbformat": 4,
  "nbformat_minor": 0,
  "metadata": {
    "colab": {
      "provenance": [],
      "authorship_tag": "ABX9TyN6emGxjDWUxn7HyjgV5ghL",
      "include_colab_link": true
    },
    "kernelspec": {
      "name": "python3",
      "display_name": "Python 3"
    },
    "language_info": {
      "name": "python"
    }
  },
  "cells": [
    {
      "cell_type": "markdown",
      "metadata": {
        "id": "view-in-github",
        "colab_type": "text"
      },
      "source": [
        "<a href=\"https://colab.research.google.com/github/iremsagun/hu-bby261-2024/blob/main/KonuTespiti.ipynb\" target=\"_parent\"><img src=\"https://colab.research.google.com/assets/colab-badge.svg\" alt=\"Open In Colab\"/></a>"
      ]
    },
    {
      "cell_type": "code",
      "execution_count": null,
      "metadata": {
        "id": "Z0kLEzchWlc5"
      },
      "outputs": [],
      "source": [
        "# Konular ve anahtar kelimeler\n",
        "anahtar_kelimeler = {\n",
        "    \"Siyaset\": [\"hükümet\", \"seçim\", \"politik\", \"lider\", \"parlamento\", \"yasama\", \"devlet\", \"meclis\", \"yürütme\", \"yargı\"],\n",
        "    \"Teknoloji\": [\"yazılım\", \"bilgisayar\", \"yapay zeka\", \"robot\", \"internet\", \"donanım\", \"teknoloji\"],\n",
        "    \"Spor\": [\"futbol\", \"basketbol\", \"spor\", \"maç\", \"oyuncu\", \"şampiyona\", \"gol\", \"şampiyon\", \"takım\",\"voleybol\", \"asist\", \"taç\", \"bilet\", \"seyirci\", \"galatasaray\" \"fenerbahçe\", \"beşiktaş\", \"gs\", \"fb\", \"bjk\"],\n",
        "    \"Sağlık\": [\"hastane\", \"doktor\", \"sağlık\", \"ilaç\", \"tedavi\", \"hastalık\", \"aşı\", \"stetoskop\"],\n",
        "    \"Eğlence\": [\"film\", \"müzik\", \"dizi\", \"tiyatro\", \"oyun\", \"eğlence\", \"sanat\", \"parti\", \"dans\", \"kahkaha\", \"konser\", \"tebessüm\", \"gülmek\"]}\n",
        "\n",
        "def konu_tespiti(metin):\n",
        "    # Her konu için bir skor tutmak için sözlük oluştur\n",
        "    skorlar = {konu: 0 for konu in anahtar_kelimeler}\n",
        "\n",
        "    # Metni kelimelere ayır ve küçük harfe çevir\n",
        "    kelimeler = metin.lower().split()\n",
        "\n",
        "    # Her kelimeyi kontrol et\n",
        "    for kelime in kelimeler:\n",
        "        for konu, kelime_listesi in anahtar_kelimeler.items():\n",
        "            if kelime in kelime_listesi:\n",
        "                skorlar[konu] += 1\n",
        "\n",
        "    # En yüksek skora sahip konuyu bul\n",
        "    en_iyi_konu = max(skorlar, key=skorlar.get)\n",
        "\n",
        "    # En yüksek skor sıfırsa konu bulunamadı\n",
        "    if skorlar[en_iyi_konu] == 0:\n",
        "        print(\"Metin hiçbir konu ile eşleşmedi.\")\n",
        "    else:\n",
        "        print(f\"Metin konusu: {en_iyi_konu}\")\n",
        "\n",
        "# Kullanıcıdan bir metin al\n",
        "metin = input(\"Bir metin girin: \")\n",
        "konu_tespiti(metin)"
      ]
    },
    {
      "cell_type": "code",
      "source": [
        "\n",
        "# Konular ve bu konulara özgü kökler\n",
        "konu_kokleri = {\n",
        "    \"Siyaset\": [\"hüküme\", \"seç\", \"politik\", \"lider\", \"parlamen\", \"yas\", \"devlet\"],\n",
        "    \"Teknoloji\": [\"yazıl\", \"bilgisay\", \"yapay\", \"robot\", \"internet\", \"donan\", \"teknoloj\"],\n",
        "    \"Spor\": [\"futbol\", \"basket\", \"maç\", \"oyunc\", \"şampiyon\", \"gol\", \"spor\"],\n",
        "    \"Sağlık\": [\"hast\", \"doktor\", \"sağlık\", \"ilaç\", \"tedav\", \"hastal\", \"aşı\"],\n",
        "    \"Eğlence\": [\"film\", \"müzik\", \"diz\", \"tiyat\", \"oyun\", \"eğlen\", \"sanat\", \"parti\", \"dans\", \"kahkaha\", \"konser\", \"tebessüm\", \"gül\"]\n",
        "}\n",
        "\n",
        "def konu_tespiti(metin):\n",
        "    # Her konu için bir skor tutmak için sözlük oluştur\n",
        "    skorlar = {konu: 0 for konu in konu_kokleri}\n",
        "\n",
        "    # Metni kelimelere ayır ve küçük harfe çevir\n",
        "    kelimeler = metin.lower().split()\n",
        "\n",
        "    # Her kelimeyi kontrol et\n",
        "    for kelime in kelimeler:\n",
        "        for konu, kok_listesi in konu_kokleri.items():\n",
        "            for kok in kok_listesi:\n",
        "                # Eğer kelime kökle başlıyorsa, o konunun skorunu artır\n",
        "                if kelime.startswith(kok):\n",
        "                    skorlar[konu] += 1\n",
        "                    break  # Bir eşleşme bulduktan sonra diğer kökleri kontrol etmeye gerek yok\n",
        "\n",
        "    # En yüksek skora sahip konuyu bul\n",
        "    en_iyi_konu = max(skorlar, key=skorlar.get)\n",
        "\n",
        "    # En yüksek skor sıfırsa konu bulunamadı\n",
        "    if skorlar[en_iyi_konu] == 0:\n",
        "        print(\"Metin hiçbir konu ile eşleşmedi.\")\n",
        "    else:\n",
        "        print(f\"Metin konusu: {en_iyi_konu}\")\n",
        "\n",
        "# Kullanıcıdan bir metin al\n",
        "metin = input(\"Bir metin girin: \")\n",
        "konu_tespiti(metin)"
      ],
      "metadata": {
        "id": "APS0uA-iO2DE"
      },
      "execution_count": null,
      "outputs": []
    }
  ]
}